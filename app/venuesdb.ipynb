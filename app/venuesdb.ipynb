{
 "cells": [
  {
   "cell_type": "code",
   "execution_count": 1,
   "metadata": {},
   "outputs": [],
   "source": [
    "import sqlite3"
   ]
  },
  {
   "cell_type": "code",
   "execution_count": 2,
   "metadata": {},
   "outputs": [],
   "source": [
    "conn = sqlite3.connect('venues.db')\n",
    "c = conn.cursor()"
   ]
  },
  {
   "cell_type": "code",
   "execution_count": 3,
   "metadata": {},
   "outputs": [
    {
     "data": {
      "text/plain": [
       "<sqlite3.Cursor at 0x18cde1ad040>"
      ]
     },
     "execution_count": 3,
     "metadata": {},
     "output_type": "execute_result"
    }
   ],
   "source": [
    "c.execute('''\n",
    "    ALTER TABLE users ADD COLUMN email TEXT;\n",
    "''')"
   ]
  },
  {
   "cell_type": "code",
   "execution_count": 2,
   "metadata": {},
   "outputs": [
    {
     "ename": "NameError",
     "evalue": "name 'sqlite3' is not defined",
     "output_type": "error",
     "traceback": [
      "\u001b[0;31m---------------------------------------------------------------------------\u001b[0m",
      "\u001b[0;31mNameError\u001b[0m                                 Traceback (most recent call last)",
      "Cell \u001b[0;32mIn[2], line 1\u001b[0m\n\u001b[0;32m----> 1\u001b[0m conn \u001b[38;5;241m=\u001b[39m \u001b[43msqlite3\u001b[49m\u001b[38;5;241m.\u001b[39mconnect(\u001b[38;5;124m'\u001b[39m\u001b[38;5;124mvenues.db\u001b[39m\u001b[38;5;124m'\u001b[39m)\n\u001b[1;32m      2\u001b[0m c \u001b[38;5;241m=\u001b[39m conn\u001b[38;5;241m.\u001b[39mcursor()\n\u001b[1;32m      4\u001b[0m c\u001b[38;5;241m.\u001b[39mexecute(\u001b[38;5;124m'''\u001b[39m\n\u001b[1;32m      5\u001b[0m \u001b[38;5;124m    INSERT INTO venues (name, address, photo_url, playground, fenced, quiet_zones, colors, smells, food_own, defined_duration, quiet, crowdedness, food_variey) VALUES\u001b[39m\n\u001b[1;32m      6\u001b[0m \u001b[38;5;124m    (\u001b[39m\u001b[38;5;124m'\u001b[39m\u001b[38;5;124mAdventure Park Voglsam\u001b[39m\u001b[38;5;124m'\u001b[39m\u001b[38;5;124m, \u001b[39m\u001b[38;5;124m'\u001b[39m\u001b[38;5;124mVoglsam 1, 84337 Schönau\u001b[39m\u001b[38;5;124m'\u001b[39m\u001b[38;5;124m, \u001b[39m\u001b[38;5;124m'\u001b[39m\u001b[38;5;124mhttps://lh3.googleusercontent.com/p/AF1QipN_opfkihmBL6fqWUn8cgbjpanA3yGM0NPqRT0D=s680-w680-h510\u001b[39m\u001b[38;5;124m'\u001b[39m\u001b[38;5;124m, 1, 0, 1, 1, 0, 1, 0, 3, 3, 4)\u001b[39m\n\u001b[1;32m      7\u001b[0m \u001b[38;5;124m'''\u001b[39m)\n",
      "\u001b[0;31mNameError\u001b[0m: name 'sqlite3' is not defined"
     ]
    }
   ],
   "source": [
    "conn = sqlite3.connect('venues.db')\n",
    "c = conn.cursor()\n",
    "\n",
    "c.execute('''\n",
    "    INSERT INTO venues (name, address, photo_url, playground, fenced, quiet_zones, colors, smells, food_own, defined_duration, quiet, crowdedness, food_variey) VALUES\n",
    "    ('Adventure Park Voglsam', 'Voglsam 1, 84337 Schönau', 'https://lh3.googleusercontent.com/p/AF1QipN_opfkihmBL6fqWUn8cgbjpanA3yGM0NPqRT0D=s680-w680-h510', 1, 0, 1, 1, 0, 1, 0, 3, 3, 4)\n",
    "''')"
   ]
  },
  {
   "cell_type": "code",
   "execution_count": 10,
   "metadata": {},
   "outputs": [
    {
     "name": "stdout",
     "output_type": "stream",
     "text": [
      "(1, 'Bowling-Center Pfarrkirchen', 'Bahnweg 11 A, 84347 Pfarrkirchen', 'https://lh3.googleusercontent.com/p/AF1QipMtaA0fkL4_efmTy3-Lc78gbPhSVQDdbnbcHUUA=s680-w680-h510', 1, 0, 0, 1, 1, 0, 0, 3.0, 2.0, 4.0, None)\n",
      "(2, 'Adventure Park Voglsam', 'Voglsam 1, 84337 Schönau', 'https://lh3.googleusercontent.com/p/AF1QipN_opfkihmBL6fqWUn8cgbjpanA3yGM0NPqRT0D=s680-w680-h510', 1, 0, 1, 1, 0, 1, 0, 3.0, 3.0, 4.0, None)\n"
     ]
    }
   ],
   "source": [
    "c.execute('SELECT * FROM venues')\n",
    "rows = c.fetchall()\n",
    "\n",
    "# Print the results\n",
    "for row in rows:\n",
    "    print(row)\n",
    "\n"
   ]
  }
 ],
 "metadata": {
  "kernelspec": {
   "display_name": "Python 3",
   "language": "python",
   "name": "python3"
  },
  "language_info": {
   "codemirror_mode": {
    "name": "ipython",
    "version": 3
   },
   "file_extension": ".py",
   "mimetype": "text/x-python",
   "name": "python",
   "nbconvert_exporter": "python",
   "pygments_lexer": "ipython3",
   "version": "3.12.1"
  }
 },
 "nbformat": 4,
 "nbformat_minor": 2
}

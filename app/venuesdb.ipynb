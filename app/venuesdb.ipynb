{
 "cells": [
  {
   "cell_type": "code",
   "execution_count": 1,
   "metadata": {},
   "outputs": [],
   "source": [
    "import sqlite3"
   ]
  },
  {
   "cell_type": "code",
   "execution_count": 2,
   "metadata": {},
   "outputs": [],
   "source": [
    "conn = sqlite3.connect('venues.db')\n",
    "c = conn.cursor()"
   ]
  },
  {
   "cell_type": "code",
   "execution_count": 5,
   "metadata": {},
   "outputs": [],
   "source": [
    "c.execute('''\n",
    "        UPDATE venues SET photo_url = ? WHERE id = ?''', ('https://external-content.duckduckgo.com/iu/?u=https%3A%2F%2Fmedia.tourdata.at%2Fdisplay%2Fpic800x%2F5db89ac4bab6ab3544d01faf45d3108b.jpg&f=1&nofb=1&ipt=a747cdbb69233de523d2d6c91486723c2b92ac9c3e9dd56e9d366e7fc288de44&ipo=images', 5))\n",
    "conn.commit()"
   ]
  },
  {
   "cell_type": "code",
   "execution_count": 3,
   "metadata": {},
   "outputs": [
    {
     "ename": "TypeError",
     "evalue": "execute expected at most 2 arguments, got 3",
     "output_type": "error",
     "traceback": [
      "\u001b[0;31m---------------------------------------------------------------------------\u001b[0m",
      "\u001b[0;31mTypeError\u001b[0m                                 Traceback (most recent call last)",
      "Cell \u001b[0;32mIn[3], line 1\u001b[0m\n\u001b[0;32m----> 1\u001b[0m \u001b[43mc\u001b[49m\u001b[38;5;241;43m.\u001b[39;49m\u001b[43mexecute\u001b[49m\u001b[43m(\u001b[49m\u001b[38;5;124;43m'''\u001b[39;49m\n\u001b[1;32m      2\u001b[0m \u001b[38;5;124;43m    SET photo_url = ? WHERE id = ?;\u001b[39;49m\n\u001b[1;32m      3\u001b[0m \u001b[38;5;124;43m'''\u001b[39;49m\u001b[43m,\u001b[49m\u001b[43m \u001b[49m\u001b[38;5;124;43m'\u001b[39;49m\u001b[38;5;124;43mhttps://external-content.duckduckgo.com/iu/?u=https\u001b[39;49m\u001b[38;5;124;43m%\u001b[39;49m\u001b[38;5;124;43m3A\u001b[39;49m\u001b[38;5;132;43;01m%2F\u001b[39;49;00m\u001b[38;5;132;43;01m%2F\u001b[39;49;00m\u001b[38;5;124;43mmein.toubiz.de\u001b[39;49m\u001b[38;5;132;43;01m%2F\u001b[39;49;00m\u001b[38;5;124;43mapi\u001b[39;49m\u001b[38;5;132;43;01m%2F\u001b[39;49;00m\u001b[38;5;124;43mv1\u001b[39;49m\u001b[38;5;132;43;01m%2F\u001b[39;49;00m\u001b[38;5;124;43marticle\u001b[39;49m\u001b[38;5;132;43;01m%2F\u001b[39;49;00m\u001b[38;5;124;43mb39f7001-5970-4bd0-9253-443c1dd322c6\u001b[39;49m\u001b[38;5;132;43;01m%2F\u001b[39;49;00m\u001b[38;5;124;43mmainImage\u001b[39;49m\u001b[38;5;132;43;01m%3F\u001b[39;49;00m\u001b[38;5;124;43mformat\u001b[39;49m\u001b[38;5;124;43m%\u001b[39;49m\u001b[38;5;124;43m3Dimage\u001b[39;49m\u001b[38;5;132;43;01m%2F\u001b[39;49;00m\u001b[38;5;124;43mjpeg\u001b[39;49m\u001b[38;5;124;43m%\u001b[39;49m\u001b[38;5;124;43m26width\u001b[39;49m\u001b[38;5;124;43m%\u001b[39;49m\u001b[38;5;124;43m3D1900&f=1&nofb=1&ipt=3b2875ae1d15cc46311df771344c633376bcb2dfbd5b78e42672654fb8ecb1e5&ipo=images\u001b[39;49m\u001b[38;5;124;43m'\u001b[39;49m\u001b[43m,\u001b[49m\u001b[43m \u001b[49m\u001b[38;5;241;43m3\u001b[39;49m\u001b[43m)\u001b[49m\n",
      "\u001b[0;31mTypeError\u001b[0m: execute expected at most 2 arguments, got 3"
     ]
    }
   ],
   "source": [
    "c.execute('''\n",
    "    SET photo_url = ? WHERE id = ?;\n",
    "''', 'https://external-content.duckduckgo.com/iu/?u=https%3A%2F%2Fmein.toubiz.de%2Fapi%2Fv1%2Farticle%2Fb39f7001-5970-4bd0-9253-443c1dd322c6%2FmainImage%3Fformat%3Dimage%2Fjpeg%26width%3D1900&f=1&nofb=1&ipt=3b2875ae1d15cc46311df771344c633376bcb2dfbd5b78e42672654fb8ecb1e5&ipo=images', 3)"
   ]
  },
  {
   "cell_type": "code",
   "execution_count": 2,
   "metadata": {},
   "outputs": [
    {
     "ename": "NameError",
     "evalue": "name 'sqlite3' is not defined",
     "output_type": "error",
     "traceback": [
      "\u001b[0;31m---------------------------------------------------------------------------\u001b[0m",
      "\u001b[0;31mNameError\u001b[0m                                 Traceback (most recent call last)",
      "Cell \u001b[0;32mIn[2], line 1\u001b[0m\n\u001b[0;32m----> 1\u001b[0m conn \u001b[38;5;241m=\u001b[39m \u001b[43msqlite3\u001b[49m\u001b[38;5;241m.\u001b[39mconnect(\u001b[38;5;124m'\u001b[39m\u001b[38;5;124mvenues.db\u001b[39m\u001b[38;5;124m'\u001b[39m)\n\u001b[1;32m      2\u001b[0m c \u001b[38;5;241m=\u001b[39m conn\u001b[38;5;241m.\u001b[39mcursor()\n\u001b[1;32m      4\u001b[0m c\u001b[38;5;241m.\u001b[39mexecute(\u001b[38;5;124m'''\u001b[39m\n\u001b[1;32m      5\u001b[0m \u001b[38;5;124m    INSERT INTO venues (name, address, photo_url, playground, fenced, quiet_zones, colors, smells, food_own, defined_duration, quiet, crowdedness, food_variey) VALUES\u001b[39m\n\u001b[1;32m      6\u001b[0m \u001b[38;5;124m    (\u001b[39m\u001b[38;5;124m'\u001b[39m\u001b[38;5;124mAdventure Park Voglsam\u001b[39m\u001b[38;5;124m'\u001b[39m\u001b[38;5;124m, \u001b[39m\u001b[38;5;124m'\u001b[39m\u001b[38;5;124mVoglsam 1, 84337 Schönau\u001b[39m\u001b[38;5;124m'\u001b[39m\u001b[38;5;124m, \u001b[39m\u001b[38;5;124m'\u001b[39m\u001b[38;5;124mhttps://lh3.googleusercontent.com/p/AF1QipN_opfkihmBL6fqWUn8cgbjpanA3yGM0NPqRT0D=s680-w680-h510\u001b[39m\u001b[38;5;124m'\u001b[39m\u001b[38;5;124m, 1, 0, 1, 1, 0, 1, 0, 3, 3, 4)\u001b[39m\n\u001b[1;32m      7\u001b[0m \u001b[38;5;124m'''\u001b[39m)\n",
      "\u001b[0;31mNameError\u001b[0m: name 'sqlite3' is not defined"
     ]
    }
   ],
   "source": [
    "conn = sqlite3.connect('venues.db')\n",
    "c = conn.cursor()\n",
    "\n",
    "c.execute('''\n",
    "    INSERT INTO venues (name, address, photo_url, playground, fenced, quiet_zones, colors, smells, food_own, defined_duration, quiet, crowdedness, food_variey) VALUES\n",
    "    ('Adventure Park Voglsam', 'Voglsam 1, 84337 Schönau', 'https://lh3.googleusercontent.com/p/AF1QipN_opfkihmBL6fqWUn8cgbjpanA3yGM0NPqRT0D=s680-w680-h510', 1, 0, 1, 1, 0, 1, 0, 3, 3, 4)\n",
    "''')"
   ]
  },
  {
   "cell_type": "code",
   "execution_count": 10,
   "metadata": {},
   "outputs": [
    {
     "name": "stdout",
     "output_type": "stream",
     "text": [
      "(1, 'Bowling-Center Pfarrkirchen', 'Bahnweg 11 A, 84347 Pfarrkirchen', 'https://lh3.googleusercontent.com/p/AF1QipMtaA0fkL4_efmTy3-Lc78gbPhSVQDdbnbcHUUA=s680-w680-h510', 1, 0, 0, 1, 1, 0, 0, 3.0, 2.0, 4.0, None)\n",
      "(2, 'Adventure Park Voglsam', 'Voglsam 1, 84337 Schönau', 'https://lh3.googleusercontent.com/p/AF1QipN_opfkihmBL6fqWUn8cgbjpanA3yGM0NPqRT0D=s680-w680-h510', 1, 0, 1, 1, 0, 1, 0, 3.0, 3.0, 4.0, None)\n"
     ]
    }
   ],
   "source": [
    "c.execute('SELECT * FROM venues')\n",
    "rows = c.fetchall()\n",
    "\n",
    "# Print the results\n",
    "for row in rows:\n",
    "    print(row)\n",
    "\n"
   ]
  }
 ],
 "metadata": {
  "kernelspec": {
   "display_name": "Python 3",
   "language": "python",
   "name": "python3"
  },
  "language_info": {
   "codemirror_mode": {
    "name": "ipython",
    "version": 3
   },
   "file_extension": ".py",
   "mimetype": "text/x-python",
   "name": "python",
   "nbconvert_exporter": "python",
   "pygments_lexer": "ipython3",
   "version": "3.10.14"
  }
 },
 "nbformat": 4,
 "nbformat_minor": 2
}
